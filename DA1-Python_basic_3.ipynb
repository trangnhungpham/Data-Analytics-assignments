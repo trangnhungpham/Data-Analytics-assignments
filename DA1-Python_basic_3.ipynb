{
 "cells": [
  {
   "cell_type": "markdown",
   "metadata": {},
   "source": [
    "# DA Challenge\n",
    "## Trang-Nhung Pham\n",
    "1 . **Item type checking function**"
   ]
  },
  {
   "cell_type": "code",
   "execution_count": 1,
   "metadata": {
    "collapsed": true
   },
   "outputs": [],
   "source": [
    "list = [1,1,2,'pisa',3,5,8,13,21,'fibonacci',34,55,89,144,'sequence']"
   ]
  },
  {
   "cell_type": "code",
   "execution_count": 2,
   "metadata": {
    "collapsed": true
   },
   "outputs": [],
   "source": [
    "def check(item):\n",
    "    if type(item) == str:\n",
    "        return len(item)\n",
    "    if type(item) == int:\n",
    "        return item/2"
   ]
  },
  {
   "cell_type": "code",
   "execution_count": 3,
   "metadata": {
    "collapsed": true
   },
   "outputs": [],
   "source": [
    "newlist = []"
   ]
  },
  {
   "cell_type": "code",
   "execution_count": 5,
   "metadata": {
    "collapsed": true
   },
   "outputs": [],
   "source": [
    "for item in list:\n",
    "    new_item = check(item)\n",
    "    newlist.append(new_item)"
   ]
  },
  {
   "cell_type": "code",
   "execution_count": 6,
   "metadata": {},
   "outputs": [
    {
     "data": {
      "text/plain": [
       "[0.5, 0.5, 1.0, 4, 1.5, 2.5, 4.0, 6.5, 10.5, 9, 17.0, 27.5, 44.5, 72.0, 8]"
      ]
     },
     "execution_count": 6,
     "metadata": {},
     "output_type": "execute_result"
    }
   ],
   "source": [
    "newlist"
   ]
  },
  {
   "cell_type": "code",
   "execution_count": 8,
   "metadata": {},
   "outputs": [
    {
     "data": {
      "text/plain": [
       "'pisa'"
      ]
     },
     "execution_count": 8,
     "metadata": {},
     "output_type": "execute_result"
    }
   ],
   "source": [
    "list[3]"
   ]
  },
  {
   "cell_type": "code",
   "execution_count": 9,
   "metadata": {},
   "outputs": [
    {
     "data": {
      "text/plain": [
       "4"
      ]
     },
     "execution_count": 9,
     "metadata": {},
     "output_type": "execute_result"
    }
   ],
   "source": [
    "newlist[3]"
   ]
  },
  {
   "cell_type": "markdown",
   "metadata": {},
   "source": [
    "2 . **Table breakdown**"
   ]
  },
  {
   "cell_type": "code",
   "execution_count": 10,
   "metadata": {
    "collapsed": true
   },
   "outputs": [],
   "source": [
    "CID = [1,2,3,4,5,6,7,8]"
   ]
  },
  {
   "cell_type": "code",
   "execution_count": 38,
   "metadata": {
    "collapsed": true
   },
   "outputs": [],
   "source": [
    "age = [19,25,41,37,64,50,18,55]\n",
    "Website = ['NBC','New York Times','Facebook','Twitter','Buzzfeed','CBS','The Guardian','The Google News']\n",
    "Click = [1,0,0,1,1,0,0,1]"
   ]
  },
  {
   "cell_type": "code",
   "execution_count": 40,
   "metadata": {
    "collapsed": true
   },
   "outputs": [],
   "source": [
    "CustomerAge = dict(zip(age,CID))\n",
    "CustomerWebsite = dict(zip(Website,CID))\n",
    "CustomerClick = dict(zip(Click,CID))"
   ]
  },
  {
   "cell_type": "markdown",
   "metadata": {},
   "source": [
    "* Categorizing outlets*"
   ]
  },
  {
   "cell_type": "code",
   "execution_count": 30,
   "metadata": {
    "collapsed": true
   },
   "outputs": [],
   "source": [
    "broadcaster = ['CBS','NBC']\n",
    "broadsheet = ['New York Times','The Guardian']\n",
    "digital = ['Facebook','Twitter','The Google News','Buzzfeed']"
   ]
  },
  {
   "cell_type": "code",
   "execution_count": 31,
   "metadata": {},
   "outputs": [
    {
     "name": "stdout",
     "output_type": "stream",
     "text": [
      "customer 1 visited a broadcaster\n",
      "customer 2 visited a broadsheet\n",
      "customer 3 visited a digital site\n",
      "customer 4 visited a digital site\n",
      "customer 5 visited a digital site\n",
      "customer 6 visited a broadcaster\n",
      "customer 7 visited a broadsheet\n",
      "customer 8 visited a digital site\n"
     ]
    }
   ],
   "source": [
    "n = {}\n",
    "for k,v in CustomerWebsite.items():\n",
    "    for i in broadsheet:\n",
    "        if i==k:\n",
    "            n[k]=v\n",
    "            print ('customer',n[k],'visited a broadsheet')\n",
    "    for e in broadcaster:\n",
    "        if e==k:\n",
    "            n[k]=v\n",
    "            print ('customer',n[k],'visited a broadcaster')\n",
    "    for f in digital:\n",
    "        if f==k:\n",
    "            n[k]=v\n",
    "            print ('customer',n[k],'visited a digital site')"
   ]
  },
  {
   "cell_type": "markdown",
   "metadata": {},
   "source": [
    "Another way to do it:"
   ]
  },
  {
   "cell_type": "code",
   "execution_count": 53,
   "metadata": {
    "collapsed": true
   },
   "outputs": [],
   "source": [
    "BS = []\n",
    "BC = []\n",
    "DO = []\n",
    "n = {}\n",
    "for k,v in CustomerWebsite.items():\n",
    "    for i in broadsheet:\n",
    "        if i==k:\n",
    "            n[k]=v\n",
    "            BS.append(n[k])\n",
    "    for e in broadcaster:\n",
    "        if e==k:\n",
    "            n[k]=v\n",
    "            BC.append(n[k])\n",
    "    for f in digital:\n",
    "        if f==k:\n",
    "            n[k]=v\n",
    "            DO.append(n[k])"
   ]
  },
  {
   "cell_type": "code",
   "execution_count": 54,
   "metadata": {},
   "outputs": [
    {
     "name": "stdout",
     "output_type": "stream",
     "text": [
      "Customers [2, 7] visited broadsheets\n",
      "Customers [1, 6] visited broadcasters\n",
      "Customers [3, 4, 5, 8] visited digital outlets\n"
     ]
    }
   ],
   "source": [
    "print ('Customers',BS,'visited broadsheets')\n",
    "print ('Customers',BC,'visited broadcasters')\n",
    "print ('Customers',DO,'visited digital outlets')"
   ]
  },
  {
   "cell_type": "markdown",
   "metadata": {},
   "source": [
    "* *Categorizing Age*"
   ]
  },
  {
   "cell_type": "code",
   "execution_count": 41,
   "metadata": {},
   "outputs": [
    {
     "name": "stdout",
     "output_type": "stream",
     "text": [
      "1 is younger than 35\n",
      "2 is younger than 35\n",
      "3 is not younger than 35\n",
      "4 is not younger than 35\n",
      "5 is not younger than 35\n",
      "6 is not younger than 35\n",
      "7 is younger than 35\n",
      "8 is not younger than 35\n"
     ]
    }
   ],
   "source": [
    "a = {}\n",
    "for k,v in CustomerAge.items():\n",
    "    if k < 35:\n",
    "        a[k]=v\n",
    "        print (v,'is younger than 35')\n",
    "    else:\n",
    "        print (v,'is not younger than 35')"
   ]
  },
  {
   "cell_type": "markdown",
   "metadata": {},
   "source": [
    "Similarly, another way to do it"
   ]
  },
  {
   "cell_type": "code",
   "execution_count": 51,
   "metadata": {
    "collapsed": true
   },
   "outputs": [],
   "source": [
    "Under35 = []\n",
    "Over35 = []\n",
    "a = {}\n",
    "for k,v in CustomerAge.items():\n",
    "    if k > 35:\n",
    "        a[k]=v\n",
    "        Over35.append(a[k])  \n",
    "    elif k < 35:\n",
    "        a[k]=v\n",
    "        Under35.append(a[k])\n",
    "    elif k == 35:\n",
    "        print ('Customer',v,'is 35')"
   ]
  },
  {
   "cell_type": "code",
   "execution_count": 52,
   "metadata": {},
   "outputs": [
    {
     "name": "stdout",
     "output_type": "stream",
     "text": [
      "Customers [3, 4, 5, 6, 8] are older than 35\n",
      "Customers [1, 2, 7] are younger than 35\n"
     ]
    }
   ],
   "source": [
    "print ('Customers',Over35,'are older than 35')\n",
    "print ('Customers',Under35,'are younger than 35')"
   ]
  },
  {
   "cell_type": "markdown",
   "metadata": {},
   "source": [
    "* *table issue*\n",
    "I think there should be a function to form table from lists and dictionaries, and vice versa, turn table into lists and dictionaries, but I havent found out the right way to do it.\n",
    "\n",
    "<table>\n",
    "<td>CID</td>\n",
    "<td>Age</td>\n",
    "<td>Website</td>\n",
    "<td>Click</td>\n",
    "</tr>\n",
    "<tr>\n",
    "<td>1</td>\n",
    "<td>19</td>\n",
    "<td>NBC</td>\n",
    "<td>1</td>\n",
    "</tr>\n",
    "<tr>\n",
    "<td>2</td>\n",
    "<td>25</td>\n",
    "<td>New York Times</td>\n",
    "<td>0</td>\n",
    "</tr>\n",
    "<tr>\n",
    "<td>3</td>\n",
    "<td>41</td>\n",
    "<td>Facebook</td>\n",
    "<td>0</td>\n",
    "</tr>\n",
    "<tr>\n",
    "<td>4</td>\n",
    "<td>37</td>\n",
    "<td>Twitter</td>\n",
    "<td>1</td>\n",
    "</tr>\n",
    "<tr>\n",
    "<td>5</td>\n",
    "<td>64</td>\n",
    "<td>Buzzfeed</td>\n",
    "<td>1</td>\n",
    "</tr>\n",
    "<tr>\n",
    "<td>6</td>\n",
    "<td>50</td>\n",
    "<td>CBS</td>\n",
    "<td>0</td>\n",
    "</tr>\n",
    "<tr>\n",
    "<td>7</td>\n",
    "<td>18</td>\n",
    "<td>The Guardian</td>\n",
    "<td>0</td>\n",
    "</tr>\n",
    "<tr>\n",
    "<td>8</td>\n",
    "<td>55</td>\n",
    "<td>The Google News</td>\n",
    "<td>1</td>\n",
    "</tr>\n",
    "</table>"
   ]
  },
  {
   "cell_type": "code",
   "execution_count": 4,
   "metadata": {
    "collapsed": true
   },
   "outputs": [],
   "source": [
    "data = [[1,19,'NBC',1],\n",
    "         [2,25,'New York Times',0],\n",
    "        [3,41,'Facebook',0],\n",
    "        [4,37,'Twitter',1],\n",
    "        [5,64,'Buzzfeed',1],\n",
    "        [6,50,'CBS',0],\n",
    "        [7,18,'The Guardian',0],\n",
    "        [8,55,'The Google News',1]]"
   ]
  },
  {
   "cell_type": "code",
   "execution_count": 5,
   "metadata": {},
   "outputs": [
    {
     "ename": "SyntaxError",
     "evalue": "invalid syntax (<ipython-input-5-ef99be7911bd>, line 3)",
     "output_type": "error",
     "traceback": [
      "\u001b[1;36m  File \u001b[1;32m\"<ipython-input-5-ef99be7911bd>\"\u001b[1;36m, line \u001b[1;32m3\u001b[0m\n\u001b[1;33m    print \" \".join(word.ljust(col_width) for word in row)\u001b[0m\n\u001b[1;37m            ^\u001b[0m\n\u001b[1;31mSyntaxError\u001b[0m\u001b[1;31m:\u001b[0m invalid syntax\n"
     ]
    }
   ],
   "source": [
    "col_width = max(len(word) for row in data for word in row) + 2  # padding\n",
    "for row in data:\n",
    "    print \" \".join(word.ljust(col_width) for word in row)"
   ]
  },
  {
   "cell_type": "code",
   "execution_count": 6,
   "metadata": {},
   "outputs": [
    {
     "ename": "SyntaxError",
     "evalue": "invalid syntax (<ipython-input-6-f398264a2c17>, line 3)",
     "output_type": "error",
     "traceback": [
      "\u001b[1;36m  File \u001b[1;32m\"<ipython-input-6-f398264a2c17>\"\u001b[1;36m, line \u001b[1;32m3\u001b[0m\n\u001b[1;33m    print \"  \".join((val.ljust(width) for val, width in zip(row, widths)))\u001b[0m\n\u001b[1;37m             ^\u001b[0m\n\u001b[1;31mSyntaxError\u001b[0m\u001b[1;31m:\u001b[0m invalid syntax\n"
     ]
    }
   ],
   "source": [
    "widths = [max(map(len, col)) for col in zip(*data)]\n",
    "for row in data:\n",
    "    print \"  \".join((val.ljust(width) for val, width in zip(row, widths)))"
   ]
  },
  {
   "cell_type": "code",
   "execution_count": 29,
   "metadata": {},
   "outputs": [
    {
     "name": "stdout",
     "output_type": "stream",
     "text": [
      "[[1, 19, 'NBC', 0], [2, 25, 'New York Times', 0], [3, 41, 'Facebook', 0], [4, 37, 'Twitter', 1], [5, 64, 'Buzzfeed', 1], [6, 50, 'CBS', 0], [7, 18, 'The Guardian', 0], [8, 55, 'The Google News', 1]]\n"
     ]
    }
   ],
   "source": [
    "Customer1 = [1,19,'NBC',0]\n",
    "Customer2 = [2,25,'New York Times',0]\n",
    "Customer3 = [3,41,'Facebook',0]\n",
    "Customer4 = [4,37,'Twitter',1]\n",
    "Customer5 = [5,64,'Buzzfeed',1]\n",
    "Customer6 = [6,50,'CBS',0]\n",
    "Customer7 = [7,18,'The Guardian',0]\n",
    "Customer8 = [8,55,'The Google News',1]\n",
    "Customer = []\n",
    "Customer.append(Customer1)\n",
    "Customer.append(Customer2)\n",
    "Customer.append(Customer3)\n",
    "Customer.append(Customer4)\n",
    "Customer.append(Customer5)\n",
    "Customer.append(Customer6)\n",
    "Customer.append(Customer7)\n",
    "Customer.append(Customer8)\n",
    "print (Customer)"
   ]
  },
  {
   "cell_type": "code",
   "execution_count": null,
   "metadata": {
    "collapsed": true
   },
   "outputs": [],
   "source": []
  }
 ],
 "metadata": {
  "kernelspec": {
   "display_name": "Python 3",
   "language": "python",
   "name": "python3"
  },
  "language_info": {
   "codemirror_mode": {
    "name": "ipython",
    "version": 3
   },
   "file_extension": ".py",
   "mimetype": "text/x-python",
   "name": "python",
   "nbconvert_exporter": "python",
   "pygments_lexer": "ipython3",
   "version": "3.6.3"
  }
 },
 "nbformat": 4,
 "nbformat_minor": 2
}
