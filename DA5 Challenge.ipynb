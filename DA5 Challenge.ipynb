{
 "cells": [
  {
   "cell_type": "markdown",
   "metadata": {},
   "source": [
    "# Challenge 1\n",
    "Run the KMeans in your own Twitter data to create segments for users. Try different numbers of clusters, and columns that might be more meaningful. What works best? How do you evaluate?\n",
    "\n",
    "Merge the best user segmentation you found back with the tweets data, and do some visualizations of key metrics from the tweets data with each user segment. What insights do you get?"
   ]
  },
  {
   "cell_type": "code",
   "execution_count": 1,
   "metadata": {
    "collapsed": true
   },
   "outputs": [],
   "source": [
    "import pandas as pd\n",
    "import seaborn as sns\n",
    "import numpy as np\n",
    "import matplotlib.pyplot as plt\n",
    "%matplotlib inline"
   ]
  },
  {
   "cell_type": "code",
   "execution_count": 2,
   "metadata": {
    "collapsed": true
   },
   "outputs": [],
   "source": [
    "tweet=pd.read_excel('tcat-peyongchang.xlsx')"
   ]
  },
  {
   "cell_type": "code",
   "execution_count": 3,
   "metadata": {},
   "outputs": [
    {
     "data": {
      "text/plain": [
       "Index(['id', 'time', 'created_at', 'from_user_name', 'text', 'filter_level',\n",
       "       'possibly_sensitive', 'withheld_copyright', 'withheld_scope',\n",
       "       'truncated', 'retweet_count', 'favorite_count', 'lang', 'to_user_name',\n",
       "       'in_reply_to_status_id', 'quoted_status_id', 'source', 'location',\n",
       "       'lat', 'lng', 'from_user_id', 'from_user_realname',\n",
       "       'from_user_verified', 'from_user_description', 'from_user_url',\n",
       "       'from_user_profile_image_url', 'from_user_utcoffset',\n",
       "       'from_user_timezone', 'from_user_lang', 'from_user_tweetcount',\n",
       "       'from_user_followercount', 'from_user_friendcount',\n",
       "       'from_user_favourites_count', 'from_user_listed',\n",
       "       'from_user_withheld_scope', 'from_user_created_at'],\n",
       "      dtype='object')"
      ]
     },
     "execution_count": 3,
     "metadata": {},
     "output_type": "execute_result"
    }
   ],
   "source": [
    "tweet.columns"
   ]
  },
  {
   "cell_type": "code",
   "execution_count": 4,
   "metadata": {
    "collapsed": true
   },
   "outputs": [],
   "source": [
    "users=tweet[['from_user_name','from_user_id','from_user_realname','from_user_verified', 'from_user_description', 'from_user_url',\n",
    "       'from_user_profile_image_url', 'from_user_utcoffset',\n",
    "       'from_user_timezone', 'from_user_lang', 'from_user_tweetcount',\n",
    "       'from_user_followercount', 'from_user_friendcount',\n",
    "       'from_user_favourites_count', 'from_user_listed',\n",
    "       'from_user_withheld_scope', 'from_user_created_at']]"
   ]
  },
  {
   "cell_type": "code",
   "execution_count": 5,
   "metadata": {
    "collapsed": true
   },
   "outputs": [],
   "source": [
    "users = users.drop_duplicates(subset='from_user_name')"
   ]
  },
  {
   "cell_type": "code",
   "execution_count": 6,
   "metadata": {},
   "outputs": [
    {
     "data": {
      "text/plain": [
       "en       313\n",
       "ru        29\n",
       "ja        20\n",
       "nl        17\n",
       "fr        17\n",
       "it        12\n",
       "pt         7\n",
       "pl         6\n",
       "de         4\n",
       "es         4\n",
       "fi         3\n",
       "no         3\n",
       "en-gb      1\n",
       "Name: from_user_lang, dtype: int64"
      ]
     },
     "execution_count": 6,
     "metadata": {},
     "output_type": "execute_result"
    }
   ],
   "source": [
    "users['from_user_lang'].value_counts()"
   ]
  },
  {
   "cell_type": "code",
   "execution_count": 7,
   "metadata": {
    "collapsed": true
   },
   "outputs": [],
   "source": [
    "def check_lang(lang, desired_lang):\n",
    "    if lang == desired_lang:\n",
    "        return 1\n",
    "    return 0"
   ]
  },
  {
   "cell_type": "code",
   "execution_count": 8,
   "metadata": {
    "collapsed": true
   },
   "outputs": [],
   "source": [
    "users['en'] = users['from_user_lang'].apply(check_lang, args=('en',))\n",
    "users['ru'] = users['from_user_lang'].apply(check_lang, args=('ru',))\n",
    "users['ja'] = users['from_user_lang'].apply(check_lang, args=('ja',))\n",
    "users['fr'] = users['from_user_lang'].apply(check_lang, args=('fr',))\n",
    "users['nl'] = users['from_user_lang'].apply(check_lang, args=('nl',))\n",
    "users['it'] = users['from_user_lang'].apply(check_lang, args=('it',))"
   ]
  },
  {
   "cell_type": "markdown",
   "metadata": {},
   "source": [
    "*Finding the suitable Kmeans*"
   ]
  },
  {
   "cell_type": "code",
   "execution_count": 9,
   "metadata": {
    "collapsed": true
   },
   "outputs": [],
   "source": [
    "from sklearn.cluster import KMeans"
   ]
  },
  {
   "cell_type": "code",
   "execution_count": 16,
   "metadata": {
    "collapsed": true
   },
   "outputs": [],
   "source": [
    "Ks = range(2, 10)\n",
    "kmeans = [KMeans(n_clusters=i) for i in Ks]\n",
    "score = [kmeans[i].fit(users[['en', 'ru', 'ja', 'fr', 'nl', 'it', 'from_user_friendcount', 'from_user_tweetcount']]).score(users[['en', 'ru', 'ja', 'fr', 'nl', 'it', 'from_user_friendcount', 'from_user_tweetcount']]) for i in range(len(kmeans))]"
   ]
  },
  {
   "cell_type": "code",
   "execution_count": 17,
   "metadata": {},
   "outputs": [
    {
     "data": {
      "text/plain": [
       "[<matplotlib.lines.Line2D at 0x1b22fbc4240>]"
      ]
     },
     "execution_count": 17,
     "metadata": {},
     "output_type": "execute_result"
    },
    {
     "data": {
      "image/png": "[encoded data removed]",
      "text/plain": [
       "<matplotlib.figure.Figure at 0x1b22eb65588>"
      ]
     },
     "metadata": {},
     "output_type": "display_data"
    }
   ],
   "source": [
    "plt.plot(Ks,score)"
   ]
  },
  {
   "cell_type": "markdown",
   "metadata": {},
   "source": [
    "I found something called \"the Elbow method\" to find the best Kmeans: \"Start with K=2, and keep increasing it in each step by 1, calculating your clusters and the cost that comes with the training. At some value for K the cost drops dramatically, and after that it reaches a plateau when you increase it further. This is the K value you want.\"\n",
    "https://stackoverflow.com/questions/41540751/sklearn-kmeans-equivalent-of-elbow-method\n",
    "However the results I got here is opposite to the guideline in the sense that my score went up rather than going down. I assumed that the rule still applies and followed it. And also when I changed the Ks range different results were generated. For Ks range from (1,10) the best kmeans is 2, for (2,10) it is 4 (as shown in the plot), for (2,20) it is 5. "
   ]
  },
  {
   "cell_type": "code",
   "execution_count": 18,
   "metadata": {
    "collapsed": true
   },
   "outputs": [],
   "source": [
    "kmeans1 = KMeans(n_clusters=4)"
   ]
  },
  {
   "cell_type": "code",
   "execution_count": 19,
   "metadata": {},
   "outputs": [],
   "source": [
    "users['segment'] = kmeans1.fit_predict(users[['en', 'ru', 'ja', 'fr', 'nl', 'it', 'from_user_friendcount', 'from_user_tweetcount']])"
   ]
  },
  {
   "cell_type": "code",
   "execution_count": 20,
   "metadata": {},
   "outputs": [
    {
     "data": {
      "text/html": [
       "<div>\n",
       "<style>\n",
       "    .dataframe thead tr:only-child th {\n",
       "        text-align: right;\n",
       "    }\n",
       "\n",
       "    .dataframe thead th {\n",
       "        text-align: left;\n",
       "    }\n",
       "\n",
       "    .dataframe tbody tr th {\n",
       "        vertical-align: top;\n",
       "    }\n",
       "</style>\n",
       "<table border=\"1\" class=\"dataframe\">\n",
       "  <thead>\n",
       "    <tr style=\"text-align: right;\">\n",
       "      <th>segment</th>\n",
       "      <th>0</th>\n",
       "      <th>1</th>\n",
       "      <th>2</th>\n",
       "      <th>3</th>\n",
       "    </tr>\n",
       "  </thead>\n",
       "  <tbody>\n",
       "    <tr>\n",
       "      <th>en</th>\n",
       "      <td>0.725441</td>\n",
       "      <td>0.0</td>\n",
       "      <td>0.676471</td>\n",
       "      <td>0.666667</td>\n",
       "    </tr>\n",
       "    <tr>\n",
       "      <th>ru</th>\n",
       "      <td>0.073048</td>\n",
       "      <td>0.0</td>\n",
       "      <td>0.000000</td>\n",
       "      <td>0.000000</td>\n",
       "    </tr>\n",
       "    <tr>\n",
       "      <th>ja</th>\n",
       "      <td>0.045340</td>\n",
       "      <td>0.0</td>\n",
       "      <td>0.058824</td>\n",
       "      <td>0.000000</td>\n",
       "    </tr>\n",
       "    <tr>\n",
       "      <th>fr</th>\n",
       "      <td>0.037783</td>\n",
       "      <td>0.0</td>\n",
       "      <td>0.058824</td>\n",
       "      <td>0.000000</td>\n",
       "    </tr>\n",
       "    <tr>\n",
       "      <th>nl</th>\n",
       "      <td>0.035264</td>\n",
       "      <td>0.0</td>\n",
       "      <td>0.088235</td>\n",
       "      <td>0.000000</td>\n",
       "    </tr>\n",
       "    <tr>\n",
       "      <th>it</th>\n",
       "      <td>0.020151</td>\n",
       "      <td>1.0</td>\n",
       "      <td>0.029412</td>\n",
       "      <td>0.333333</td>\n",
       "    </tr>\n",
       "    <tr>\n",
       "      <th>from_user_friendcount</th>\n",
       "      <td>698.284635</td>\n",
       "      <td>794.0</td>\n",
       "      <td>2256.676471</td>\n",
       "      <td>4207.333333</td>\n",
       "    </tr>\n",
       "    <tr>\n",
       "      <th>from_user_tweetcount</th>\n",
       "      <td>10108.942065</td>\n",
       "      <td>1847586.0</td>\n",
       "      <td>133677.323529</td>\n",
       "      <td>502919.666667</td>\n",
       "    </tr>\n",
       "  </tbody>\n",
       "</table>\n",
       "</div>"
      ],
      "text/plain": [
       "segment                           0          1              2              3\n",
       "en                         0.725441        0.0       0.676471       0.666667\n",
       "ru                         0.073048        0.0       0.000000       0.000000\n",
       "ja                         0.045340        0.0       0.058824       0.000000\n",
       "fr                         0.037783        0.0       0.058824       0.000000\n",
       "nl                         0.035264        0.0       0.088235       0.000000\n",
       "it                         0.020151        1.0       0.029412       0.333333\n",
       "from_user_friendcount    698.284635      794.0    2256.676471    4207.333333\n",
       "from_user_tweetcount   10108.942065  1847586.0  133677.323529  502919.666667"
      ]
     },
     "execution_count": 20,
     "metadata": {},
     "output_type": "execute_result"
    }
   ],
   "source": [
    "users[['en', 'ru', 'ja', 'fr', 'nl', 'it', 'from_user_friendcount','from_user_tweetcount', 'segment']].groupby('segment').mean().transpose()"
   ]
  },
  {
   "cell_type": "code",
   "execution_count": 21,
   "metadata": {},
   "outputs": [
    {
     "data": {
      "text/html": [
       "<div>\n",
       "<style>\n",
       "    .dataframe thead tr:only-child th {\n",
       "        text-align: right;\n",
       "    }\n",
       "\n",
       "    .dataframe thead th {\n",
       "        text-align: left;\n",
       "    }\n",
       "\n",
       "    .dataframe tbody tr th {\n",
       "        vertical-align: top;\n",
       "    }\n",
       "</style>\n",
       "<table border=\"1\" class=\"dataframe\">\n",
       "  <thead>\n",
       "    <tr style=\"text-align: right;\">\n",
       "      <th>segment2</th>\n",
       "      <th>0</th>\n",
       "      <th>1</th>\n",
       "      <th>2</th>\n",
       "      <th>3</th>\n",
       "      <th>4</th>\n",
       "      <th>5</th>\n",
       "      <th>6</th>\n",
       "      <th>7</th>\n",
       "      <th>8</th>\n",
       "      <th>9</th>\n",
       "    </tr>\n",
       "  </thead>\n",
       "  <tbody>\n",
       "    <tr>\n",
       "      <th>en</th>\n",
       "      <td>0.656934</td>\n",
       "      <td>0.0</td>\n",
       "      <td>0.5</td>\n",
       "      <td>0.636364</td>\n",
       "      <td>0.0</td>\n",
       "      <td>0.727273</td>\n",
       "      <td>1.0</td>\n",
       "      <td>0.25</td>\n",
       "      <td>0.680851</td>\n",
       "      <td>0.785714</td>\n",
       "    </tr>\n",
       "    <tr>\n",
       "      <th>ru</th>\n",
       "      <td>0.175182</td>\n",
       "      <td>0.0</td>\n",
       "      <td>0.0</td>\n",
       "      <td>0.000000</td>\n",
       "      <td>0.0</td>\n",
       "      <td>0.000000</td>\n",
       "      <td>0.0</td>\n",
       "      <td>0.00</td>\n",
       "      <td>0.000000</td>\n",
       "      <td>0.023810</td>\n",
       "    </tr>\n",
       "    <tr>\n",
       "      <th>ja</th>\n",
       "      <td>0.036496</td>\n",
       "      <td>0.0</td>\n",
       "      <td>0.0</td>\n",
       "      <td>0.090909</td>\n",
       "      <td>0.0</td>\n",
       "      <td>0.045455</td>\n",
       "      <td>0.0</td>\n",
       "      <td>0.00</td>\n",
       "      <td>0.106383</td>\n",
       "      <td>0.038095</td>\n",
       "    </tr>\n",
       "    <tr>\n",
       "      <th>fr</th>\n",
       "      <td>0.021898</td>\n",
       "      <td>0.0</td>\n",
       "      <td>0.0</td>\n",
       "      <td>0.090909</td>\n",
       "      <td>0.0</td>\n",
       "      <td>0.045455</td>\n",
       "      <td>0.0</td>\n",
       "      <td>0.00</td>\n",
       "      <td>0.042553</td>\n",
       "      <td>0.047619</td>\n",
       "    </tr>\n",
       "    <tr>\n",
       "      <th>nl</th>\n",
       "      <td>0.029197</td>\n",
       "      <td>0.0</td>\n",
       "      <td>0.0</td>\n",
       "      <td>0.000000</td>\n",
       "      <td>0.0</td>\n",
       "      <td>0.090909</td>\n",
       "      <td>0.0</td>\n",
       "      <td>0.50</td>\n",
       "      <td>0.042553</td>\n",
       "      <td>0.033333</td>\n",
       "    </tr>\n",
       "    <tr>\n",
       "      <th>it</th>\n",
       "      <td>0.029197</td>\n",
       "      <td>1.0</td>\n",
       "      <td>0.5</td>\n",
       "      <td>0.090909</td>\n",
       "      <td>1.0</td>\n",
       "      <td>0.000000</td>\n",
       "      <td>0.0</td>\n",
       "      <td>0.00</td>\n",
       "      <td>0.042553</td>\n",
       "      <td>0.009524</td>\n",
       "    </tr>\n",
       "    <tr>\n",
       "      <th>from_user_friendcount</th>\n",
       "      <td>774.452555</td>\n",
       "      <td>1588.0</td>\n",
       "      <td>5470.0</td>\n",
       "      <td>2605.909091</td>\n",
       "      <td>0.0</td>\n",
       "      <td>1611.181818</td>\n",
       "      <td>1682.0</td>\n",
       "      <td>3884.75</td>\n",
       "      <td>1378.638298</td>\n",
       "      <td>492.380952</td>\n",
       "    </tr>\n",
       "    <tr>\n",
       "      <th>from_user_tweetcount</th>\n",
       "      <td>12402.832117</td>\n",
       "      <td>2015966.0</td>\n",
       "      <td>408639.5</td>\n",
       "      <td>165500.090909</td>\n",
       "      <td>1679206.0</td>\n",
       "      <td>88317.772727</td>\n",
       "      <td>691480.0</td>\n",
       "      <td>247633.50</td>\n",
       "      <td>33006.595745</td>\n",
       "      <td>2636.928571</td>\n",
       "    </tr>\n",
       "  </tbody>\n",
       "</table>\n",
       "</div>"
      ],
      "text/plain": [
       "segment2                          0          1         2              3  \\\n",
       "en                         0.656934        0.0       0.5       0.636364   \n",
       "ru                         0.175182        0.0       0.0       0.000000   \n",
       "ja                         0.036496        0.0       0.0       0.090909   \n",
       "fr                         0.021898        0.0       0.0       0.090909   \n",
       "nl                         0.029197        0.0       0.0       0.000000   \n",
       "it                         0.029197        1.0       0.5       0.090909   \n",
       "from_user_friendcount    774.452555     1588.0    5470.0    2605.909091   \n",
       "from_user_tweetcount   12402.832117  2015966.0  408639.5  165500.090909   \n",
       "\n",
       "segment2                       4             5         6          7  \\\n",
       "en                           0.0      0.727273       1.0       0.25   \n",
       "ru                           0.0      0.000000       0.0       0.00   \n",
       "ja                           0.0      0.045455       0.0       0.00   \n",
       "fr                           0.0      0.045455       0.0       0.00   \n",
       "nl                           0.0      0.090909       0.0       0.50   \n",
       "it                           1.0      0.000000       0.0       0.00   \n",
       "from_user_friendcount        0.0   1611.181818    1682.0    3884.75   \n",
       "from_user_tweetcount   1679206.0  88317.772727  691480.0  247633.50   \n",
       "\n",
       "segment2                          8            9  \n",
       "en                         0.680851     0.785714  \n",
       "ru                         0.000000     0.023810  \n",
       "ja                         0.106383     0.038095  \n",
       "fr                         0.042553     0.047619  \n",
       "nl                         0.042553     0.033333  \n",
       "it                         0.042553     0.009524  \n",
       "from_user_friendcount   1378.638298   492.380952  \n",
       "from_user_tweetcount   33006.595745  2636.928571  "
      ]
     },
     "execution_count": 21,
     "metadata": {},
     "output_type": "execute_result"
    }
   ],
   "source": [
    "kmeans2 = KMeans(n_clusters=10)\n",
    "users['segment2'] = kmeans2.fit_predict(users[['en', 'ru', 'ja', 'fr', 'nl', 'it', 'from_user_friendcount', 'from_user_tweetcount']])\n",
    "users[['en', 'ru', 'ja', 'fr', 'nl', 'it', 'from_user_friendcount','from_user_tweetcount', 'segment2']].groupby('segment2').mean().transpose()"
   ]
  },
  {
   "cell_type": "code",
   "execution_count": 23,
   "metadata": {},
   "outputs": [
    {
     "data": {
      "text/plain": [
       "<matplotlib.axes._subplots.AxesSubplot at 0x1b22fbee940>"
      ]
     },
     "execution_count": 23,
     "metadata": {},
     "output_type": "execute_result"
    },
    {
     "data": {
      "image/png": "[encoded data removed]",
      "text/plain": [
       "<matplotlib.figure.Figure at 0x1b22ef16550>"
      ]
     },
     "metadata": {},
     "output_type": "display_data"
    }
   ],
   "source": [
    "sns.swarmplot(x=\"from_user_friendcount\", y=\"from_user_tweetcount\", data=users, hue=\"segment\", size=10)"
   ]
  },
  {
   "cell_type": "code",
   "execution_count": 24,
   "metadata": {},
   "outputs": [
    {
     "data": {
      "text/plain": [
       "<matplotlib.axes._subplots.AxesSubplot at 0x1b22fbdd208>"
      ]
     },
     "execution_count": 24,
     "metadata": {},
     "output_type": "execute_result"
    },
    {
     "data": {
      "image/png": "[encoded data removed]",
      "text/plain": [
       "<matplotlib.figure.Figure at 0x1b22fbd89e8>"
      ]
     },
     "metadata": {},
     "output_type": "display_data"
    }
   ],
   "source": [
    "sns.stripplot(x=\"segment\", y=\"en\", data=users, jitter=True)"
   ]
  },
  {
   "cell_type": "markdown",
   "metadata": {},
   "source": []
  },
  {
   "cell_type": "code",
   "execution_count": 25,
   "metadata": {
    "collapsed": true
   },
   "outputs": [],
   "source": [
    "users_segment=users[['from_user_name','segment']]"
   ]
  },
  {
   "cell_type": "code",
   "execution_count": 26,
   "metadata": {
    "collapsed": true
   },
   "outputs": [],
   "source": [
    "tweet_with_segments = tweet.merge(users_segment, how=\"left\", on=\"from_user_name\")"
   ]
  },
  {
   "cell_type": "code",
   "execution_count": 27,
   "metadata": {},
   "outputs": [
    {
     "data": {
      "text/plain": [
       "<matplotlib.axes._subplots.AxesSubplot at 0x1b22fffbf60>"
      ]
     },
     "execution_count": 27,
     "metadata": {},
     "output_type": "execute_result"
    },
    {
     "data": {
      "image/png": "[encoded data removed]",
      "text/plain": [
       "<matplotlib.figure.Figure at 0x1b23003ac50>"
      ]
     },
     "metadata": {},
     "output_type": "display_data"
    }
   ],
   "source": [
    "sns.swarmplot(x=\"from_user_friendcount\", y=\"from_user_tweetcount\", data=tweet_with_segments, hue=\"segment\", size=10)"
   ]
  },
  {
   "cell_type": "code",
   "execution_count": 28,
   "metadata": {},
   "outputs": [
    {
     "data": {
      "text/plain": [
       "<matplotlib.axes._subplots.AxesSubplot at 0x1b2307535c0>"
      ]
     },
     "execution_count": 28,
     "metadata": {},
     "output_type": "execute_result"
    },
    {
     "data": {
      "image/png": "[encoded data removed]",
      "text/plain": [
       "<matplotlib.figure.Figure at 0x1b2318fc4a8>"
      ]
     },
     "metadata": {},
     "output_type": "display_data"
    }
   ],
   "source": [
    "sns.stripplot(x=\"segment\", y=\"from_user_tweetcount\", data=tweet_with_segments, jitter=True)"
   ]
  },
  {
   "cell_type": "code",
   "execution_count": 29,
   "metadata": {},
   "outputs": [
    {
     "data": {
      "text/plain": [
       "<matplotlib.axes._subplots.AxesSubplot at 0x1b2319765f8>"
      ]
     },
     "execution_count": 29,
     "metadata": {},
     "output_type": "execute_result"
    },
    {
     "data": {
      "image/png": "[encoded data removed]",
      "text/plain": [
       "<matplotlib.figure.Figure at 0x1b230221358>"
      ]
     },
     "metadata": {},
     "output_type": "display_data"
    }
   ],
   "source": [
    "sns.stripplot(x=\"segment\", y=\"from_user_followercount\", data=tweet_with_segments, jitter=True)"
   ]
  },
  {
   "cell_type": "code",
   "execution_count": 30,
   "metadata": {},
   "outputs": [
    {
     "data": {
      "text/plain": [
       "<matplotlib.axes._subplots.AxesSubplot at 0x1b231a3f320>"
      ]
     },
     "execution_count": 30,
     "metadata": {},
     "output_type": "execute_result"
    },
    {
     "data": {
      "image/png": "[encoded data removed]",
      "text/plain": [
       "<matplotlib.figure.Figure at 0x1b231a80ef0>"
      ]
     },
     "metadata": {},
     "output_type": "display_data"
    }
   ],
   "source": [
    "sns.swarmplot(x=\"from_user_lang\", y=\"from_user_tweetcount\", data=tweet_with_segments, hue=\"segment\", size=10)"
   ]
  },
  {
   "cell_type": "code",
   "execution_count": 31,
   "metadata": {
    "collapsed": true
   },
   "outputs": [],
   "source": [
    "users.to_pickle('Nhung_users_segmented.pkl')\n",
    "tweet_with_segments.to_pickle('NhungTweetWithSegments.pkl')"
   ]
  },
  {
   "cell_type": "markdown",
   "metadata": {},
   "source": [
    "# Challenge 2\n",
    "Change the features of the logistic model created in scikit-learn, and see if you get to a better model to predict clicks. How does this model look like? How do you know it is actually better than the one I created?\n",
    "\n",
    "Create a model for predicting sell."
   ]
  },
  {
   "cell_type": "code",
   "execution_count": 32,
   "metadata": {
    "collapsed": true
   },
   "outputs": [],
   "source": [
    "webdata = pd.read_excel('web_campaign_simulated.xlsx')"
   ]
  },
  {
   "cell_type": "code",
   "execution_count": 33,
   "metadata": {},
   "outputs": [
    {
     "data": {
      "text/html": [
       "<div>\n",
       "<style>\n",
       "    .dataframe thead tr:only-child th {\n",
       "        text-align: right;\n",
       "    }\n",
       "\n",
       "    .dataframe thead th {\n",
       "        text-align: left;\n",
       "    }\n",
       "\n",
       "    .dataframe tbody tr th {\n",
       "        vertical-align: top;\n",
       "    }\n",
       "</style>\n",
       "<table border=\"1\" class=\"dataframe\">\n",
       "  <thead>\n",
       "    <tr style=\"text-align: right;\">\n",
       "      <th></th>\n",
       "      <th>id</th>\n",
       "      <th>age</th>\n",
       "      <th>female</th>\n",
       "      <th>used_search</th>\n",
       "      <th>referral</th>\n",
       "      <th>time_spent</th>\n",
       "      <th>campaign_1</th>\n",
       "      <th>campaign_2</th>\n",
       "      <th>click</th>\n",
       "      <th>sell_old</th>\n",
       "      <th>sell</th>\n",
       "    </tr>\n",
       "  </thead>\n",
       "  <tbody>\n",
       "    <tr>\n",
       "      <th>0</th>\n",
       "      <td>1</td>\n",
       "      <td>40</td>\n",
       "      <td>1</td>\n",
       "      <td>1</td>\n",
       "      <td>tumblr</td>\n",
       "      <td>204</td>\n",
       "      <td>1</td>\n",
       "      <td>0</td>\n",
       "      <td>0</td>\n",
       "      <td>1</td>\n",
       "      <td>0</td>\n",
       "    </tr>\n",
       "    <tr>\n",
       "      <th>1</th>\n",
       "      <td>2</td>\n",
       "      <td>49</td>\n",
       "      <td>0</td>\n",
       "      <td>0</td>\n",
       "      <td></td>\n",
       "      <td>239</td>\n",
       "      <td>1</td>\n",
       "      <td>0</td>\n",
       "      <td>0</td>\n",
       "      <td>0</td>\n",
       "      <td>1</td>\n",
       "    </tr>\n",
       "    <tr>\n",
       "      <th>2</th>\n",
       "      <td>3</td>\n",
       "      <td>20</td>\n",
       "      <td>1</td>\n",
       "      <td>0</td>\n",
       "      <td>google</td>\n",
       "      <td>238</td>\n",
       "      <td>0</td>\n",
       "      <td>0</td>\n",
       "      <td>0</td>\n",
       "      <td>1</td>\n",
       "      <td>1</td>\n",
       "    </tr>\n",
       "    <tr>\n",
       "      <th>3</th>\n",
       "      <td>4</td>\n",
       "      <td>19</td>\n",
       "      <td>1</td>\n",
       "      <td>0</td>\n",
       "      <td>google</td>\n",
       "      <td>111</td>\n",
       "      <td>1</td>\n",
       "      <td>1</td>\n",
       "      <td>0</td>\n",
       "      <td>1</td>\n",
       "      <td>0</td>\n",
       "    </tr>\n",
       "    <tr>\n",
       "      <th>4</th>\n",
       "      <td>5</td>\n",
       "      <td>46</td>\n",
       "      <td>1</td>\n",
       "      <td>1</td>\n",
       "      <td>twitter</td>\n",
       "      <td>159</td>\n",
       "      <td>0</td>\n",
       "      <td>0</td>\n",
       "      <td>1</td>\n",
       "      <td>1</td>\n",
       "      <td>0</td>\n",
       "    </tr>\n",
       "  </tbody>\n",
       "</table>\n",
       "</div>"
      ],
      "text/plain": [
       "   id  age  female  used_search referral  time_spent  campaign_1  campaign_2  \\\n",
       "0   1   40       1            1   tumblr         204           1           0   \n",
       "1   2   49       0            0                  239           1           0   \n",
       "2   3   20       1            0   google         238           0           0   \n",
       "3   4   19       1            0   google         111           1           1   \n",
       "4   5   46       1            1  twitter         159           0           0   \n",
       "\n",
       "   click  sell_old  sell  \n",
       "0      0         1     0  \n",
       "1      0         0     1  \n",
       "2      0         1     1  \n",
       "3      0         1     0  \n",
       "4      1         1     0  "
      ]
     },
     "execution_count": 33,
     "metadata": {},
     "output_type": "execute_result"
    }
   ],
   "source": [
    "webdata.head()"
   ]
  },
  {
   "cell_type": "code",
   "execution_count": 34,
   "metadata": {
    "collapsed": true
   },
   "outputs": [],
   "source": [
    "def check_referral(referral, site):\n",
    "    if referral == site:\n",
    "        return 1\n",
    "    return 0"
   ]
  },
  {
   "cell_type": "code",
   "execution_count": 35,
   "metadata": {
    "collapsed": true
   },
   "outputs": [],
   "source": [
    "webdata['google'] = webdata['referral'].apply(check_referral, args=('google',))\n",
    "webdata['facebook'] = webdata['referral'].apply(check_referral, args=('facebook',))\n",
    "webdata['news_a'] = webdata['referral'].apply(check_referral, args=('newsletter A',))\n",
    "webdata['news_b'] = webdata['referral'].apply(check_referral, args=('newsletter B',))\n",
    "webdata['nyt'] = webdata['referral'].apply(check_referral, args=('nyt',))\n",
    "webdata['tumblr'] = webdata['referral'].apply(check_referral, args=('tumblr',))\n",
    "webdata['twitter'] = webdata['referral'].apply(check_referral, args=('twitter',))"
   ]
  },
  {
   "cell_type": "code",
   "execution_count": 36,
   "metadata": {
    "collapsed": true
   },
   "outputs": [],
   "source": [
    "from sklearn.linear_model import LogisticRegression"
   ]
  },
  {
   "cell_type": "code",
   "execution_count": 37,
   "metadata": {
    "collapsed": true
   },
   "outputs": [],
   "source": [
    "logit_clf = LogisticRegression(max_iter=1000, fit_intercept = True)"
   ]
  },
  {
   "cell_type": "code",
   "execution_count": 38,
   "metadata": {
    "collapsed": true
   },
   "outputs": [],
   "source": [
    "features = ['age', 'female', 'facebook', 'sell_old','used_search', 'campaign_2']"
   ]
  },
  {
   "cell_type": "code",
   "execution_count": 39,
   "metadata": {},
   "outputs": [
    {
     "data": {
      "text/plain": [
       "LogisticRegression(C=1.0, class_weight=None, dual=False, fit_intercept=True,\n",
       "          intercept_scaling=1, max_iter=1000, multi_class='ovr', n_jobs=1,\n",
       "          penalty='l2', random_state=None, solver='liblinear', tol=0.0001,\n",
       "          verbose=0, warm_start=False)"
      ]
     },
     "execution_count": 39,
     "metadata": {},
     "output_type": "execute_result"
    }
   ],
   "source": [
    "logit_clf.fit(webdata[features], webdata['click'])"
   ]
  },
  {
   "cell_type": "code",
   "execution_count": 40,
   "metadata": {},
   "outputs": [
    {
     "data": {
      "text/plain": [
       "array([[ 0.,  1.],\n",
       "       [ 0.,  1.]])"
      ]
     },
     "execution_count": 40,
     "metadata": {},
     "output_type": "execute_result"
    }
   ],
   "source": [
    "people = [[25, 1,0,208,0,0], [12,0,1,112,0,1]]\n",
    "logit_clf.predict_proba(people)"
   ]
  },
  {
   "cell_type": "markdown",
   "metadata": {},
   "source": [
    "I supposed that if the resulting array is closer to rounded numbers (the closer they are to 0 and 1), the more accurate the prediction is. However, whatever I changed the value of people to, the resulting array didnt change, which make me doubt the result."
   ]
  },
  {
   "cell_type": "code",
   "execution_count": 41,
   "metadata": {},
   "outputs": [
    {
     "data": {
      "text/plain": [
       "LogisticRegression(C=1.0, class_weight=None, dual=False, fit_intercept=True,\n",
       "          intercept_scaling=1, max_iter=1000, multi_class='ovr', n_jobs=1,\n",
       "          penalty='l2', random_state=None, solver='liblinear', tol=0.0001,\n",
       "          verbose=0, warm_start=False)"
      ]
     },
     "execution_count": 41,
     "metadata": {},
     "output_type": "execute_result"
    }
   ],
   "source": [
    "logit_clf.fit(webdata[features], webdata['sell'])"
   ]
  },
  {
   "cell_type": "code",
   "execution_count": 42,
   "metadata": {},
   "outputs": [
    {
     "data": {
      "text/plain": [
       "array([[  1.79856130e-14,   1.00000000e+00],\n",
       "       [  4.61852778e-14,   1.00000000e+00]])"
      ]
     },
     "execution_count": 42,
     "metadata": {},
     "output_type": "execute_result"
    }
   ],
   "source": [
    "people = [[25, 0,0,208,0,0], [78,0,1,200,1,1]]\n",
    "logit_clf.predict_proba(people)"
   ]
  },
  {
   "cell_type": "code",
   "execution_count": 43,
   "metadata": {
    "collapsed": true
   },
   "outputs": [],
   "source": [
    "features2 = ['age', 'female', 'twitter', 'sell_old','used_search', 'campaign_1']"
   ]
  },
  {
   "cell_type": "code",
   "execution_count": 46,
   "metadata": {},
   "outputs": [
    {
     "data": {
      "text/plain": [
       "array([[  3.90798505e-14,   1.00000000e+00],\n",
       "       [  1.14575016e-13,   1.00000000e+00],\n",
       "       [  6.62184639e-01,   3.37815361e-01],\n",
       "       [  6.08878725e-01,   3.91121275e-01]])"
      ]
     },
     "execution_count": 46,
     "metadata": {},
     "output_type": "execute_result"
    }
   ],
   "source": [
    "logit_clf.fit(webdata[features2], webdata['sell'])\n",
    "people = [[30, 0,0,208,0,0], [65,0,1,200,1,1],[15,1,1,0,0,0],[47,1,0,1,1,1]]\n",
    "logit_clf.predict_proba(people)"
   ]
  },
  {
   "cell_type": "code",
   "execution_count": null,
   "metadata": {
    "collapsed": true
   },
   "outputs": [],
   "source": []
  }
 ],
 "metadata": {
  "kernelspec": {
   "display_name": "Python 3",
   "language": "python",
   "name": "python3"
  },
  "language_info": {
   "codemirror_mode": {
    "name": "ipython",
    "version": 3
   },
   "file_extension": ".py",
   "mimetype": "text/x-python",
   "name": "python",
   "nbconvert_exporter": "python",
   "pygments_lexer": "ipython3",
   "version": "3.6.3"
  }
 },
 "nbformat": 4,
 "nbformat_minor": 2
}
